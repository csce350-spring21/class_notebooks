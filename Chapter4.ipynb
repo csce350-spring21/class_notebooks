{
 "cells": [
  {
   "cell_type": "markdown",
   "metadata": {},
   "source": [
    "# Chapter 4"
   ]
  },
  {
   "cell_type": "markdown",
   "metadata": {},
   "source": [
    "# Setup\n",
    "\n",
    "## General Linux Instructions\n",
    "Go here: [Link](https://www.digitalocean.com/community/tutorials/how-to-set-up-jupyter-notebook-with-python-3-on-ubuntu-18-04) \n",
    "\n",
    "Follow the instructions (install for local server (perhsp in VM))\n",
    "\n",
    "Make sure work inside the virtualenv environment\n",
    "\n",
    "Install termcolor\n",
    "pip install termcolor\n",
    "\n",
    "Install python graphviz\n",
    "pip install graphviz\n",
    "\n",
    "need to install graphviz too\n",
    "sudo apt-get install graphviz\n",
    "\n",
    "Install numpy\n",
    "pip install numpy\n",
    "\n",
    "## Can also install Anaconda, Python3 version (multiple OSes)\n",
    "[link](https://docs.anaconda.com/anaconda/install/)\n",
    "- Can Google how to use command line (easy, actually)\n",
    "- or just use Anaconda Navigator and install python packages under Environments (each envornment has a set of packages installed)\n",
    "- Anaconda is often used for data analysis/machine learning things (it is quite large, 2GB iirc), but comes with Python"
   ]
  },
  {
   "cell_type": "code",
   "execution_count": 26,
   "metadata": {},
   "outputs": [],
   "source": [
    "\n",
    "import numpy as np\n",
    "import random\n",
    "from IPython.display import Image\n",
    "\n",
    "\n",
    "import random\n",
    "\n",
    "def rand_list(ct,start=0,step=1):\n",
    "    xs = [x for x in range(start,start+ct*step,step)]\n",
    "    random.shuffle(xs)\n",
    "    return xs\n",
    "\n",
    "def evens(ct):\n",
    "    return rand_list(ct,2,2)\n"
   ]
  },
  {
   "cell_type": "markdown",
   "metadata": {},
   "source": [
    "## Binary Search"
   ]
  },
  {
   "cell_type": "code",
   "execution_count": 27,
   "metadata": {},
   "outputs": [],
   "source": [
    "from  termcolor import colored\n",
    "\n",
    "#input: sorted list of something comparable with <\n",
    "#output: index of item searched for in input list or -1 if not present\n",
    "def binary_search(x,xs):\n",
    "    begin=0\n",
    "    end=len(xs)-1 #length of xs\n",
    "    while begin <= end:\n",
    "        m = (begin+end)//2 # integer division\n",
    "        pretty_bs(xs,x,begin,end,m) # for drawing, \"pretty_X\" will be my name for these functions\n",
    "        y= xs[m]\n",
    "        if x == y:\n",
    "            return m\n",
    "        elif y<x:\n",
    "            begin = m+1\n",
    "        else:\n",
    "            end = m-1\n",
    "    return -1\n",
    "\n",
    "def pretty_bs(xs,target,begin,end,m):\n",
    "    l = len(xs)\n",
    "    print('[ ',end='')\n",
    "    for i in range(l):   # range(l) is numbers 0,1..l-1 (not inclusive)\n",
    "        if xs[i] == target:\n",
    "            print(colored(xs[i],'yellow'),end = '')\n",
    "        elif i==m:\n",
    "            print(colored(xs[i],'green'),end = '')\n",
    "        elif i>= begin and i<=end:\n",
    "            print(colored(xs[i],'blue'),end = '')\n",
    "        else:\n",
    "            print(xs[i],end='')\n",
    "        if(i< l-1): print(\", \", end='')\n",
    "    print(\" ]\")"
   ]
  },
  {
   "cell_type": "code",
   "execution_count": 28,
   "metadata": {},
   "outputs": [
    {
     "name": "stdout",
     "output_type": "stream",
     "text": [
      "[3, 7, 4, 1, 2, 5, 8, 0, 9, 6]\n",
      "sorted:\n",
      "[0, 1, 2, 3, 4, 5, 6, 7, 8, 9]\n"
     ]
    }
   ],
   "source": [
    "xs = rand_list(10)\n",
    "print(xs)\n",
    "sxs = sorted(xs)\n",
    "print('sorted:')\n",
    "print(sxs)"
   ]
  },
  {
   "cell_type": "code",
   "execution_count": 29,
   "metadata": {},
   "outputs": [
    {
     "name": "stdout",
     "output_type": "stream",
     "text": [
      "[ \u001b[34m0\u001b[0m, \u001b[34m1\u001b[0m, \u001b[33m2\u001b[0m, \u001b[34m3\u001b[0m, \u001b[32m4\u001b[0m, \u001b[34m5\u001b[0m, \u001b[34m6\u001b[0m, \u001b[34m7\u001b[0m, \u001b[34m8\u001b[0m, \u001b[34m9\u001b[0m ]\n",
      "[ \u001b[34m0\u001b[0m, \u001b[32m1\u001b[0m, \u001b[33m2\u001b[0m, \u001b[34m3\u001b[0m, 4, 5, 6, 7, 8, 9 ]\n",
      "[ 0, 1, \u001b[33m2\u001b[0m, \u001b[34m3\u001b[0m, 4, 5, 6, 7, 8, 9 ]\n",
      "2\n"
     ]
    }
   ],
   "source": [
    "i = binary_search(2,sxs)\n",
    "print(i)"
   ]
  },
  {
   "cell_type": "code",
   "execution_count": 30,
   "metadata": {},
   "outputs": [
    {
     "name": "stdout",
     "output_type": "stream",
     "text": [
      "[8, 12, 18, 10, 4, 20, 6, 2, 14, 16]\n"
     ]
    }
   ],
   "source": [
    "es = evens(10)\n",
    "print(es)"
   ]
  },
  {
   "cell_type": "code",
   "execution_count": 31,
   "metadata": {},
   "outputs": [
    {
     "name": "stdout",
     "output_type": "stream",
     "text": [
      "[2, 4, 6, 8, 10, 12, 14, 16, 18, 20]\n"
     ]
    }
   ],
   "source": [
    "ses = sorted(es)\n",
    "print(ses)"
   ]
  },
  {
   "cell_type": "code",
   "execution_count": 32,
   "metadata": {},
   "outputs": [
    {
     "name": "stdout",
     "output_type": "stream",
     "text": [
      "[ \u001b[34m2\u001b[0m, \u001b[34m4\u001b[0m, \u001b[34m6\u001b[0m, \u001b[34m8\u001b[0m, \u001b[32m10\u001b[0m, \u001b[34m12\u001b[0m, \u001b[34m14\u001b[0m, \u001b[33m16\u001b[0m, \u001b[34m18\u001b[0m, \u001b[34m20\u001b[0m ]\n",
      "[ 2, 4, 6, 8, 10, \u001b[34m12\u001b[0m, \u001b[34m14\u001b[0m, \u001b[33m16\u001b[0m, \u001b[34m18\u001b[0m, \u001b[34m20\u001b[0m ]\n",
      "7\n"
     ]
    }
   ],
   "source": [
    "i = binary_search(16,ses)\n",
    "print(i)"
   ]
  },
  {
   "cell_type": "code",
   "execution_count": 33,
   "metadata": {},
   "outputs": [
    {
     "name": "stdout",
     "output_type": "stream",
     "text": [
      "[ \u001b[34m2\u001b[0m, \u001b[34m4\u001b[0m, \u001b[34m6\u001b[0m, \u001b[34m8\u001b[0m, \u001b[32m10\u001b[0m, \u001b[34m12\u001b[0m, \u001b[34m14\u001b[0m, \u001b[34m16\u001b[0m, \u001b[34m18\u001b[0m, \u001b[34m20\u001b[0m ]\n",
      "[ 2, 4, 6, 8, 10, \u001b[34m12\u001b[0m, \u001b[34m14\u001b[0m, \u001b[32m16\u001b[0m, \u001b[34m18\u001b[0m, \u001b[34m20\u001b[0m ]\n",
      "[ 2, 4, 6, 8, 10, \u001b[32m12\u001b[0m, \u001b[34m14\u001b[0m, 16, 18, 20 ]\n",
      "[ 2, 4, 6, 8, 10, 12, \u001b[32m14\u001b[0m, 16, 18, 20 ]\n",
      "-1\n"
     ]
    }
   ],
   "source": [
    "i = binary_search(15,ses)\n",
    "print(i)"
   ]
  },
  {
   "cell_type": "code",
   "execution_count": 34,
   "metadata": {},
   "outputs": [
    {
     "name": "stdout",
     "output_type": "stream",
     "text": [
      "[26, 36, 22, 6, 40, 42, 8, 12, 34, 30, 50, 38, 46, 20, 48, 14, 32, 10, 2, 24, 28, 44, 16, 4, 18]\n"
     ]
    }
   ],
   "source": [
    "big_evens = evens(25)\n",
    "print(big_evens)"
   ]
  },
  {
   "cell_type": "code",
   "execution_count": 35,
   "metadata": {},
   "outputs": [
    {
     "name": "stdout",
     "output_type": "stream",
     "text": [
      "[2, 4, 6, 8, 10, 12, 14, 16, 18, 20, 22, 24, 26, 28, 30, 32, 34, 36, 38, 40, 42, 44, 46, 48, 50]\n"
     ]
    }
   ],
   "source": [
    "sbig_evens = sorted(big_evens)\n",
    "print(sbig_evens)"
   ]
  },
  {
   "cell_type": "code",
   "execution_count": 36,
   "metadata": {},
   "outputs": [
    {
     "name": "stdout",
     "output_type": "stream",
     "text": [
      "[ \u001b[34m2\u001b[0m, \u001b[34m4\u001b[0m, \u001b[34m6\u001b[0m, \u001b[34m8\u001b[0m, \u001b[34m10\u001b[0m, \u001b[34m12\u001b[0m, \u001b[34m14\u001b[0m, \u001b[34m16\u001b[0m, \u001b[33m18\u001b[0m, \u001b[34m20\u001b[0m, \u001b[34m22\u001b[0m, \u001b[34m24\u001b[0m, \u001b[32m26\u001b[0m, \u001b[34m28\u001b[0m, \u001b[34m30\u001b[0m, \u001b[34m32\u001b[0m, \u001b[34m34\u001b[0m, \u001b[34m36\u001b[0m, \u001b[34m38\u001b[0m, \u001b[34m40\u001b[0m, \u001b[34m42\u001b[0m, \u001b[34m44\u001b[0m, \u001b[34m46\u001b[0m, \u001b[34m48\u001b[0m, \u001b[34m50\u001b[0m ]\n",
      "[ \u001b[34m2\u001b[0m, \u001b[34m4\u001b[0m, \u001b[34m6\u001b[0m, \u001b[34m8\u001b[0m, \u001b[34m10\u001b[0m, \u001b[32m12\u001b[0m, \u001b[34m14\u001b[0m, \u001b[34m16\u001b[0m, \u001b[33m18\u001b[0m, \u001b[34m20\u001b[0m, \u001b[34m22\u001b[0m, \u001b[34m24\u001b[0m, 26, 28, 30, 32, 34, 36, 38, 40, 42, 44, 46, 48, 50 ]\n",
      "[ 2, 4, 6, 8, 10, 12, \u001b[34m14\u001b[0m, \u001b[34m16\u001b[0m, \u001b[33m18\u001b[0m, \u001b[34m20\u001b[0m, \u001b[34m22\u001b[0m, \u001b[34m24\u001b[0m, 26, 28, 30, 32, 34, 36, 38, 40, 42, 44, 46, 48, 50 ]\n",
      "8\n"
     ]
    }
   ],
   "source": [
    "i = binary_search(18,sbig_evens)\n",
    "print(i)"
   ]
  },
  {
   "cell_type": "code",
   "execution_count": 37,
   "metadata": {},
   "outputs": [
    {
     "name": "stdout",
     "output_type": "stream",
     "text": [
      "8\n"
     ]
    }
   ],
   "source": [
    "print(i)"
   ]
  },
  {
   "cell_type": "code",
   "execution_count": 38,
   "metadata": {},
   "outputs": [
    {
     "name": "stdout",
     "output_type": "stream",
     "text": [
      "[ \u001b[34m2\u001b[0m, \u001b[34m4\u001b[0m, \u001b[34m6\u001b[0m, \u001b[34m8\u001b[0m, \u001b[34m10\u001b[0m, \u001b[34m12\u001b[0m, \u001b[34m14\u001b[0m, \u001b[34m16\u001b[0m, \u001b[34m18\u001b[0m, \u001b[34m20\u001b[0m, \u001b[34m22\u001b[0m, \u001b[34m24\u001b[0m, \u001b[32m26\u001b[0m, \u001b[34m28\u001b[0m, \u001b[34m30\u001b[0m, \u001b[34m32\u001b[0m, \u001b[34m34\u001b[0m, \u001b[34m36\u001b[0m, \u001b[34m38\u001b[0m, \u001b[34m40\u001b[0m, \u001b[34m42\u001b[0m, \u001b[34m44\u001b[0m, \u001b[34m46\u001b[0m, \u001b[34m48\u001b[0m, \u001b[34m50\u001b[0m ]\n",
      "[ \u001b[34m2\u001b[0m, \u001b[34m4\u001b[0m, \u001b[34m6\u001b[0m, \u001b[34m8\u001b[0m, \u001b[34m10\u001b[0m, \u001b[32m12\u001b[0m, \u001b[34m14\u001b[0m, \u001b[34m16\u001b[0m, \u001b[34m18\u001b[0m, \u001b[34m20\u001b[0m, \u001b[34m22\u001b[0m, \u001b[34m24\u001b[0m, 26, 28, 30, 32, 34, 36, 38, 40, 42, 44, 46, 48, 50 ]\n",
      "[ \u001b[34m2\u001b[0m, \u001b[34m4\u001b[0m, \u001b[32m6\u001b[0m, \u001b[34m8\u001b[0m, \u001b[34m10\u001b[0m, 12, 14, 16, 18, 20, 22, 24, 26, 28, 30, 32, 34, 36, 38, 40, 42, 44, 46, 48, 50 ]\n",
      "[ 2, 4, 6, \u001b[32m8\u001b[0m, \u001b[34m10\u001b[0m, 12, 14, 16, 18, 20, 22, 24, 26, 28, 30, 32, 34, 36, 38, 40, 42, 44, 46, 48, 50 ]\n",
      "[ 2, 4, 6, 8, \u001b[32m10\u001b[0m, 12, 14, 16, 18, 20, 22, 24, 26, 28, 30, 32, 34, 36, 38, 40, 42, 44, 46, 48, 50 ]\n",
      "-1\n"
     ]
    }
   ],
   "source": [
    "i = binary_search(11,sbig_evens)\n",
    "print(i)"
   ]
  },
  {
   "cell_type": "markdown",
   "metadata": {},
   "source": [
    "## Lomuto Partitioning\n"
   ]
  },
  {
   "cell_type": "code",
   "execution_count": 39,
   "metadata": {},
   "outputs": [],
   "source": [
    "def LomutoPartition(A,l,r):\n",
    "    def swap(A,i,j):\n",
    "        temp = A[i]\n",
    "        A[i] = A[j]\n",
    "        A[j] = temp\n",
    "    \n",
    "    pretty_partition(A,l,r)\n",
    "    \n",
    "    #actual code\n",
    "    p = A[l]\n",
    "    s= l\n",
    "    for i in range(l+1,r+1):\n",
    "        if A[i] < p:\n",
    "            s += 1\n",
    "            swap(A,s,i)\n",
    "    swap(A,l,s)\n",
    "    \n",
    "    pretty_partition(A,l,r,s)\n",
    "    return s\n",
    "                \n",
    "def pretty_partition(xs,l,r, s=None):\n",
    "    print('[ ',end='')\n",
    "    for i in range(len(xs)):   # range(l) is numbers 0,1..l-1 (not inclusive)\n",
    "        if s is None and i==l:\n",
    "            print(colored(xs[i],'green'),end = '')\n",
    "        elif s is not None and i == s:\n",
    "            print(colored(xs[i],'yellow'),end = '')\n",
    "        elif i>= l and i<=r:\n",
    "            print(colored(xs[i],'blue'),end = '')\n",
    "        else:\n",
    "            print(xs[i],end='')\n",
    "        if(i< len(xs) -1): print(\", \", end='')\n",
    "    print(\" ]\")"
   ]
  },
  {
   "cell_type": "code",
   "execution_count": 40,
   "metadata": {},
   "outputs": [
    {
     "name": "stdout",
     "output_type": "stream",
     "text": [
      "[ \u001b[32m2\u001b[0m, \u001b[34m0\u001b[0m, \u001b[34m3\u001b[0m, \u001b[34m9\u001b[0m, \u001b[34m8\u001b[0m, \u001b[34m5\u001b[0m, \u001b[34m6\u001b[0m, \u001b[34m4\u001b[0m, \u001b[34m1\u001b[0m, \u001b[34m7\u001b[0m ]\n",
      "[ \u001b[34m1\u001b[0m, \u001b[34m0\u001b[0m, \u001b[33m2\u001b[0m, \u001b[34m9\u001b[0m, \u001b[34m8\u001b[0m, \u001b[34m5\u001b[0m, \u001b[34m6\u001b[0m, \u001b[34m4\u001b[0m, \u001b[34m3\u001b[0m, \u001b[34m7\u001b[0m ]\n"
     ]
    },
    {
     "data": {
      "text/plain": [
       "2"
      ]
     },
     "execution_count": 40,
     "metadata": {},
     "output_type": "execute_result"
    }
   ],
   "source": [
    "xs = rand_list(10)\n",
    "LomutoPartition(xs,0,len(xs)-1)"
   ]
  },
  {
   "cell_type": "markdown",
   "metadata": {},
   "source": [
    "## QuickSelect\n",
    "So, QuickSelect is easy now"
   ]
  },
  {
   "cell_type": "code",
   "execution_count": 41,
   "metadata": {},
   "outputs": [],
   "source": [
    "def QuickSelect(A,k):\n",
    "    '''\n",
    "    Finds the k^th order statistic in A\n",
    "    Input: List A, order statistic(1-indexed) k\n",
    "    Output: the k^th order statistic\n",
    "    '''\n",
    "    def qs(A,l,r,k):\n",
    "        '''\n",
    "        Note: this is slightly different than the book verion -- k is never adjusted\n",
    "        '''\n",
    "        s = LomutoPartition(A,l,r)\n",
    "        print(\"s=\"+str(s))\n",
    "        if s == k-1:\n",
    "            return A[s]\n",
    "        elif s>k-1:\n",
    "            qs(A,l,s-1,k)\n",
    "        else:\n",
    "            qs(A,s+1,r,k) \n",
    "            \n",
    "    return qs(A,0,len(A)-1,k)"
   ]
  },
  {
   "cell_type": "code",
   "execution_count": 45,
   "metadata": {},
   "outputs": [
    {
     "name": "stdout",
     "output_type": "stream",
     "text": [
      "[ \u001b[32m5\u001b[0m, \u001b[34m9\u001b[0m, \u001b[34m4\u001b[0m, \u001b[34m1\u001b[0m, \u001b[34m3\u001b[0m, \u001b[34m7\u001b[0m, \u001b[34m2\u001b[0m, \u001b[34m8\u001b[0m, \u001b[34m0\u001b[0m, \u001b[34m6\u001b[0m ]\n",
      "[ \u001b[34m0\u001b[0m, \u001b[34m4\u001b[0m, \u001b[34m1\u001b[0m, \u001b[34m3\u001b[0m, \u001b[34m2\u001b[0m, \u001b[33m5\u001b[0m, \u001b[34m9\u001b[0m, \u001b[34m8\u001b[0m, \u001b[34m7\u001b[0m, \u001b[34m6\u001b[0m ]\n",
      "s=5\n",
      "[ \u001b[32m0\u001b[0m, \u001b[34m4\u001b[0m, \u001b[34m1\u001b[0m, \u001b[34m3\u001b[0m, \u001b[34m2\u001b[0m, 5, 9, 8, 7, 6 ]\n",
      "[ \u001b[33m0\u001b[0m, \u001b[34m4\u001b[0m, \u001b[34m1\u001b[0m, \u001b[34m3\u001b[0m, \u001b[34m2\u001b[0m, 5, 9, 8, 7, 6 ]\n",
      "s=0\n"
     ]
    }
   ],
   "source": [
    "xs = rand_list(10)\n",
    "QuickSelect(xs,1)"
   ]
  },
  {
   "cell_type": "code",
   "execution_count": 50,
   "metadata": {},
   "outputs": [
    {
     "name": "stdout",
     "output_type": "stream",
     "text": [
      "[ \u001b[32m16\u001b[0m, \u001b[34m15\u001b[0m, \u001b[34m0\u001b[0m, \u001b[34m3\u001b[0m, \u001b[34m14\u001b[0m, \u001b[34m2\u001b[0m, \u001b[34m18\u001b[0m, \u001b[34m11\u001b[0m, \u001b[34m19\u001b[0m, \u001b[34m13\u001b[0m, \u001b[34m9\u001b[0m, \u001b[34m22\u001b[0m, \u001b[34m21\u001b[0m, \u001b[34m6\u001b[0m, \u001b[34m12\u001b[0m, \u001b[34m7\u001b[0m, \u001b[34m4\u001b[0m, \u001b[34m20\u001b[0m, \u001b[34m1\u001b[0m, \u001b[34m5\u001b[0m, \u001b[34m10\u001b[0m, \u001b[34m17\u001b[0m, \u001b[34m8\u001b[0m ]\n",
      "[ \u001b[34m8\u001b[0m, \u001b[34m15\u001b[0m, \u001b[34m0\u001b[0m, \u001b[34m3\u001b[0m, \u001b[34m14\u001b[0m, \u001b[34m2\u001b[0m, \u001b[34m11\u001b[0m, \u001b[34m13\u001b[0m, \u001b[34m9\u001b[0m, \u001b[34m6\u001b[0m, \u001b[34m12\u001b[0m, \u001b[34m7\u001b[0m, \u001b[34m4\u001b[0m, \u001b[34m1\u001b[0m, \u001b[34m5\u001b[0m, \u001b[34m10\u001b[0m, \u001b[33m16\u001b[0m, \u001b[34m20\u001b[0m, \u001b[34m18\u001b[0m, \u001b[34m19\u001b[0m, \u001b[34m22\u001b[0m, \u001b[34m17\u001b[0m, \u001b[34m21\u001b[0m ]\n",
      "s=16\n",
      "[ \u001b[32m8\u001b[0m, \u001b[34m15\u001b[0m, \u001b[34m0\u001b[0m, \u001b[34m3\u001b[0m, \u001b[34m14\u001b[0m, \u001b[34m2\u001b[0m, \u001b[34m11\u001b[0m, \u001b[34m13\u001b[0m, \u001b[34m9\u001b[0m, \u001b[34m6\u001b[0m, \u001b[34m12\u001b[0m, \u001b[34m7\u001b[0m, \u001b[34m4\u001b[0m, \u001b[34m1\u001b[0m, \u001b[34m5\u001b[0m, \u001b[34m10\u001b[0m, 16, 20, 18, 19, 22, 17, 21 ]\n",
      "[ \u001b[34m5\u001b[0m, \u001b[34m0\u001b[0m, \u001b[34m3\u001b[0m, \u001b[34m2\u001b[0m, \u001b[34m6\u001b[0m, \u001b[34m7\u001b[0m, \u001b[34m4\u001b[0m, \u001b[34m1\u001b[0m, \u001b[33m8\u001b[0m, \u001b[34m14\u001b[0m, \u001b[34m12\u001b[0m, \u001b[34m15\u001b[0m, \u001b[34m11\u001b[0m, \u001b[34m13\u001b[0m, \u001b[34m9\u001b[0m, \u001b[34m10\u001b[0m, 16, 20, 18, 19, 22, 17, 21 ]\n",
      "s=8\n",
      "[ 5, 0, 3, 2, 6, 7, 4, 1, 8, \u001b[32m14\u001b[0m, \u001b[34m12\u001b[0m, \u001b[34m15\u001b[0m, \u001b[34m11\u001b[0m, \u001b[34m13\u001b[0m, \u001b[34m9\u001b[0m, \u001b[34m10\u001b[0m, 16, 20, 18, 19, 22, 17, 21 ]\n",
      "[ 5, 0, 3, 2, 6, 7, 4, 1, 8, \u001b[34m10\u001b[0m, \u001b[34m12\u001b[0m, \u001b[34m11\u001b[0m, \u001b[34m13\u001b[0m, \u001b[34m9\u001b[0m, \u001b[33m14\u001b[0m, \u001b[34m15\u001b[0m, 16, 20, 18, 19, 22, 17, 21 ]\n",
      "s=14\n",
      "[ 5, 0, 3, 2, 6, 7, 4, 1, 8, \u001b[32m10\u001b[0m, \u001b[34m12\u001b[0m, \u001b[34m11\u001b[0m, \u001b[34m13\u001b[0m, \u001b[34m9\u001b[0m, 14, 15, 16, 20, 18, 19, 22, 17, 21 ]\n",
      "[ 5, 0, 3, 2, 6, 7, 4, 1, 8, \u001b[34m9\u001b[0m, \u001b[33m10\u001b[0m, \u001b[34m11\u001b[0m, \u001b[34m13\u001b[0m, \u001b[34m12\u001b[0m, 14, 15, 16, 20, 18, 19, 22, 17, 21 ]\n",
      "s=10\n"
     ]
    }
   ],
   "source": [
    "xs = rand_list(23)\n",
    "QuickSelect(xs,11)"
   ]
  },
  {
   "cell_type": "code",
   "execution_count": null,
   "metadata": {},
   "outputs": [],
   "source": []
  }
 ],
 "metadata": {
  "kernelspec": {
   "display_name": "Python 3",
   "language": "python",
   "name": "python3"
  },
  "language_info": {
   "codemirror_mode": {
    "name": "ipython",
    "version": 3
   },
   "file_extension": ".py",
   "mimetype": "text/x-python",
   "name": "python",
   "nbconvert_exporter": "python",
   "pygments_lexer": "ipython3",
   "version": "3.7.4"
  }
 },
 "nbformat": 4,
 "nbformat_minor": 2
}
